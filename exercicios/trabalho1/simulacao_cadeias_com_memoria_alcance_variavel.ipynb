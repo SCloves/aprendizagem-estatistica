{
 "cells": [
  {
   "cell_type": "markdown",
   "metadata": {},
   "source": [
    "**Aluno:** Cloves Adriano Paiva Sousa\n",
    "\n",
    "**nº USP:** 9292218\n",
    "\n",
    "**Prof:** Antônio Galves\n",
    "\n",
    "**Curso:** Aprendizagem Estatística"
   ]
  },
  {
   "cell_type": "markdown",
   "metadata": {},
   "source": [
    "# Cadeias estocásticas com memória de alcance variável\n",
    "\n",
    "Constituem uma família de cadeias estocásticas de ordem finita em um alfabeto finito. A ideia é que para cada passado, apenas um sufixo finito, chamado contexto, é suficiente para predizer o próximo símbulo.  "
   ]
  },
  {
   "cell_type": "markdown",
   "metadata": {},
   "source": [
    "1) Formule uma questão que lhe pareca interessante, pertinente e factível em aproximadamente 10 minutos utilizando noçóes e resultados apresentados no curso. As melhores questoes cairam na terceira prova do curso."
   ]
  },
  {
   "cell_type": "markdown",
   "metadata": {},
   "source": [
    "Resposta:\n",
    "\n",
    "Dada a amostra (0, 0, 0, 1, 0, 1, 1, 1, 0, 1, 0, 1, 1, 1, 1, 0, 1, 0, 0, 1, 1, 1, 1, 0), diga qual é a árvore de contextos t de altura menor ou igual a 3, obtida aplicando o Algoritmo Contexto, utilizando δ = 0.05 no critério de poda."
   ]
  },
  {
   "cell_type": "markdown",
   "metadata": {},
   "source": [
    "2) Usando símbolos do alfabeto A = {0, 1}, escolha duas árvores de contexto de altura menor ou igual a 3 e atribua probabilidades de transição aos contextos dessas duas árvores."
   ]
  },
  {
   "cell_type": "markdown",
   "metadata": {},
   "source": [
    "Resposta:\n",
    "\n",
    "t1 = {0, 01, 11}, com probabilidades de transição p(0|0)=0.2, p(0|10)=0.4 e p(0|11)=0.6;\n",
    "\n",
    "t2 = {00, 10, 1}, com probabilidades de transição p(0|00)= 1/3, p(0|01)=1/3 e p(0|1)=3/8."
   ]
  },
  {
   "cell_type": "markdown",
   "metadata": {},
   "source": [
    "a) Descreva um algoritmo de simulação de cadeias com memoria de\n",
    "alcance variável dada uma árvores e uma familia de probabilidades\n",
    "de transição associada."
   ]
  },
  {
   "cell_type": "code",
   "execution_count": 1,
   "metadata": {
    "collapsed": false
   },
   "outputs": [],
   "source": [
    "'''\n",
    "1º Defina uma árvore de contextos no alfabeto A={0, 1};\n",
    "2º Defina as probabilidade de transição dessa árvore;\n",
    "3º obtenha uma amostra [x1, x2, ..., xn] de uma distribuiçao uniforme \n",
    "   tomando valores no intervalo [0, 1];\n",
    "4º inicialise a cadeia com algum(ns) valor(es) do alfabeto A;\n",
    "5º para cada xi da amostra, i=0,...,n:\n",
    "        yi = 1 se xi > p(0|contexto(cadeia))\n",
    "        yi = 0 caso contrário\n",
    "        yi é adiconada à cadeia. \n",
    "''';"
   ]
  },
  {
   "cell_type": "markdown",
   "metadata": {},
   "source": [
    "b) Escreva o código na sua linguagem de programação preferida implementando esse algoritmo."
   ]
  },
  {
   "cell_type": "code",
   "execution_count": 2,
   "metadata": {
    "collapsed": true
   },
   "outputs": [],
   "source": [
    "import scipy.stats as stats"
   ]
  },
  {
   "cell_type": "code",
   "execution_count": 3,
   "metadata": {
    "collapsed": true
   },
   "outputs": [],
   "source": [
    "def getContext(lista, arvore):\n",
    "    '''\n",
    "    recebe uma lista de caracteres do alfabeto A={0, 1}\n",
    "    e uma lista de contextos 'arvore' e retorna o contexto \n",
    "    necessário para prever próximo caracter\n",
    "    '''\n",
    "    cadeia = ''.join(lista)\n",
    "    context = ''\n",
    "    n = len(cadeia)\n",
    "    for i in range(n):\n",
    "        context = cadeia[n-1] + context \n",
    "        if context in arvore:\n",
    "            return context\n",
    "        n -= 1\n",
    "        \n",
    "    return None\n",
    "\n",
    "class Cadeia():\n",
    "    '''\n",
    "    Esta classe representa uma cadeia com memoria alcance variavel\n",
    "    que recebe os seguintes atributos:\n",
    "        t = uma lista dos contextos da árvore\n",
    "        prob = um dicionário com todos os contextos como chave \n",
    "               e as suas respectivas probabilidades de transição \n",
    "               para o caracter zero.\n",
    "    '''\n",
    "    \n",
    "    def __init__(self, t, prob):\n",
    "        self.arvore = t\n",
    "        self.prob_trans = prob\n",
    "        self.cadeia = 'ainda nao foi gerada'\n",
    "        \n",
    "    def gerarCadeia(self, inicio_cadeia, tamanho_cadeia):\n",
    "        '''\n",
    "        Este método recebe:\n",
    "          inicio_cadeia = uma string com o início da cadeia\n",
    "          tamanho_cadeia = um inteiro informando o tamanho desejado \n",
    "                           da cadeia\n",
    "        Este método retorna:\n",
    "            cadeia com memoria alcance variavel com contextos \n",
    "            self.arvore e probabilidades de transição self.prob_trans\n",
    "        '''\n",
    "        amostra_uniforme = stats.uniform.rvs(\n",
    "            size=tamanho_cadeia-len(inicio_cadeia))\n",
    "        cadeia = []\n",
    "        cadeia.append(inicio_cadeia)\n",
    "    \n",
    "        for item in amostra_uniforme:\n",
    "            context = getContext(cadeia, self.arvore)\n",
    "            if context == None:\n",
    "                pass\n",
    "            else:\n",
    "                if item > self.prob_trans[context]:\n",
    "                    y = '1'\n",
    "                else:\n",
    "                    y = '0'\n",
    "                cadeia.append(y)\n",
    "                \n",
    "        self.cadeia = ''.join(cadeia)\n",
    "        return self.cadeia \n",
    "    "
   ]
  },
  {
   "cell_type": "code",
   "execution_count": 4,
   "metadata": {
    "collapsed": true
   },
   "outputs": [],
   "source": [
    "arvore = ['0', '01', '11']"
   ]
  },
  {
   "cell_type": "code",
   "execution_count": 5,
   "metadata": {
    "collapsed": false
   },
   "outputs": [],
   "source": [
    "prob = {'0': 0.2, '01': 0.4, '11': 0.6}"
   ]
  },
  {
   "cell_type": "code",
   "execution_count": 6,
   "metadata": {
    "collapsed": true
   },
   "outputs": [],
   "source": [
    "cadeia = Cadeia(arvore, prob)"
   ]
  },
  {
   "cell_type": "code",
   "execution_count": 7,
   "metadata": {
    "collapsed": false
   },
   "outputs": [
    {
     "data": {
      "text/plain": [
       "'ainda nao foi gerada'"
      ]
     },
     "execution_count": 7,
     "metadata": {},
     "output_type": "execute_result"
    }
   ],
   "source": [
    "cadeia.cadeia"
   ]
  },
  {
   "cell_type": "code",
   "execution_count": 8,
   "metadata": {
    "collapsed": false
   },
   "outputs": [
    {
     "data": {
      "text/plain": [
       "'0110110110011101011011110001111111011011001101011011011011001101101110110101101010110110011010111010010101011000111011110101101101010110101101011101010011100101101010101101011010101111101000111111011101100101101110011101010110110110101110011101110101110111010110011001101101001110101010010111100110100101111010110110110101111011010010011110110111011010110100110110101111010110110101110101101011101011111010110010001100110111010101101010101011101010111010101111010101101111011011011000100101101011011111011011011010111001001110111101101110011110111000111010110101011111010110110110111011000101100111110011101101010101111011001101011001100111011011001010111110111011101101111011011100110111000101111011101100101011100111010111010011100110010110110111111010110111011011101011011011011011110111101011101101101010110110101110100101101010111010110111001011011101110101011011101100110111010001011010101111001010110111110101111010111011010101110110101011110110101010100101011101101110111011101100011001101101'"
      ]
     },
     "execution_count": 8,
     "metadata": {},
     "output_type": "execute_result"
    }
   ],
   "source": [
    "cadeia.gerarCadeia(inicio_cadeia = '01', tamanho_cadeia = 1000)"
   ]
  },
  {
   "cell_type": "markdown",
   "metadata": {},
   "source": [
    "c) Gere 5 amostras de comprimento 1000 para cada uma dessas cadeias usando o algoritmo apresentado no item b)."
   ]
  },
  {
   "cell_type": "code",
   "execution_count": 9,
   "metadata": {
    "collapsed": true
   },
   "outputs": [],
   "source": [
    "cadeia1 = Cadeia(['0', '01', '11'], {'0': 0.2, '01': 0.4, '11': 0.6})\n",
    "cadeia2 = Cadeia(['00', '10', '1'], {'00': 0.33, '10': 0.33, '1': 0.375})"
   ]
  },
  {
   "cell_type": "code",
   "execution_count": 10,
   "metadata": {
    "collapsed": true
   },
   "outputs": [],
   "source": [
    "amostra_cadeia1 = []\n",
    "amostra_cadeia2 = []"
   ]
  },
  {
   "cell_type": "code",
   "execution_count": 11,
   "metadata": {
    "collapsed": false
   },
   "outputs": [],
   "source": [
    "for i in range(5):\n",
    "    amostra_cadeia1.append(cadeia1.gerarCadeia('01', 1000))\n",
    "    amostra_cadeia2.append(cadeia2.gerarCadeia('01', 1000))"
   ]
  },
  {
   "cell_type": "markdown",
   "metadata": {},
   "source": [
    "d) Diga que estatísticas podem ser usada para verificar a correção do algoritmo de simulação e de seus códigos."
   ]
  },
  {
   "cell_type": "markdown",
   "metadata": {},
   "source": [
    "Resposta:\n",
    "\n",
    "Uma estatística seria obter a frequência relativa amostral de cada contexto para o caracter '0' e obter a média dessas frequências relativas de cada contexto e comparar com suas respectivas probabilidades de transições. \n",
    "\n",
    "Outra estatística possível seria o 'Erro quadrático Médio' das probabilidades(usando-se a maximoverossimilhança) de transição baseados nas amostras. "
   ]
  },
  {
   "cell_type": "markdown",
   "metadata": {},
   "source": [
    "e) Aplique essas estadísticas nas amostras geradas e comente os resultados."
   ]
  },
  {
   "cell_type": "code",
   "execution_count": 12,
   "metadata": {
    "collapsed": true
   },
   "outputs": [],
   "source": [
    "def freqRelativa(cadeia, contexto):\n",
    "    n = float(cadeia.count(contexto))\n",
    "    evento = cadeia.count(contexto + '0')\n",
    "    return evento/n"
   ]
  },
  {
   "cell_type": "code",
   "execution_count": 13,
   "metadata": {
    "collapsed": true
   },
   "outputs": [],
   "source": [
    "def media_freq_relativa(cadeias, prob):\n",
    "    contextos = prob.keys()\n",
    "    dic = {}\n",
    "    for contexto in contextos:\n",
    "        for cadeia in amostra_cadeia1:\n",
    "            l = [freqRelativa(cadeia, contexto)]\n",
    "        dic[contexto] = sum(l)/float(len(l))\n",
    "    return dic"
   ]
  },
  {
   "cell_type": "code",
   "execution_count": 14,
   "metadata": {
    "collapsed": false
   },
   "outputs": [
    {
     "name": "stdout",
     "output_type": "stream",
     "text": [
      "{'11': 0.6, '0': 0.2, '01': 0.4}\n"
     ]
    },
    {
     "data": {
      "text/plain": [
       "{'0': 0.16279069767441862, '01': 0.3081967213114754, '11': 0.8333333333333334}"
      ]
     },
     "execution_count": 14,
     "metadata": {},
     "output_type": "execute_result"
    }
   ],
   "source": [
    "print cadeia1.prob_trans\n",
    "media_freq_relativa(amostra_cadeia1, cadeia1.prob_trans)"
   ]
  },
  {
   "cell_type": "code",
   "execution_count": 15,
   "metadata": {
    "collapsed": false
   },
   "outputs": [
    {
     "name": "stdout",
     "output_type": "stream",
     "text": [
      "{'1': 0.375, '10': 0.33, '00': 0.33}\n"
     ]
    },
    {
     "data": {
      "text/plain": [
       "{'00': 0.25396825396825395,\n",
       " '1': 0.49755301794453505,\n",
       " '10': 0.19672131147540983}"
      ]
     },
     "execution_count": 15,
     "metadata": {},
     "output_type": "execute_result"
    }
   ],
   "source": [
    "print cadeia2.prob_trans\n",
    "media_freq_relativa(amostra_cadeia2, cadeia2.prob_trans)"
   ]
  }
 ],
 "metadata": {
  "anaconda-cloud": {},
  "kernelspec": {
   "display_name": "Python [conda root]",
   "language": "python",
   "name": "conda-root-py"
  },
  "language_info": {
   "codemirror_mode": {
    "name": "ipython",
    "version": 2
   },
   "file_extension": ".py",
   "mimetype": "text/x-python",
   "name": "python",
   "nbconvert_exporter": "python",
   "pygments_lexer": "ipython2",
   "version": "2.7.12"
  }
 },
 "nbformat": 4,
 "nbformat_minor": 2
}
